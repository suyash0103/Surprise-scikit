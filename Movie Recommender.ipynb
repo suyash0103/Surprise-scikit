{
 "cells": [
  {
   "cell_type": "code",
   "execution_count": 1,
   "metadata": {},
   "outputs": [
    {
     "name": "stderr",
     "output_type": "stream",
     "text": [
      "c:\\program files\\python36\\lib\\site-packages\\surprise\\evaluate.py:66: UserWarning: The evaluate() method is deprecated. Please use model_selection.cross_validate() instead.\n",
      "  'model_selection.cross_validate() instead.', UserWarning)\n",
      "c:\\program files\\python36\\lib\\site-packages\\surprise\\dataset.py:193: UserWarning: Using data.split() or using load_from_folds() without using a CV iterator is now deprecated. \n",
      "  UserWarning)\n"
     ]
    },
    {
     "name": "stdout",
     "output_type": "stream",
     "text": [
      "Evaluating RMSE, MAE of algorithm SVD.\n",
      "\n",
      "------------\n",
      "Fold 1\n",
      "RMSE: 0.9408\n",
      "MAE:  0.7404\n",
      "------------\n",
      "Fold 2\n",
      "RMSE: 0.9392\n",
      "MAE:  0.7387\n",
      "------------\n",
      "Fold 3\n",
      "RMSE: 0.9295\n",
      "MAE:  0.7321\n",
      "------------\n",
      "Fold 4\n",
      "RMSE: 0.9356\n",
      "MAE:  0.7393\n",
      "------------\n",
      "Fold 5\n",
      "RMSE: 0.9390\n",
      "MAE:  0.7408\n",
      "------------\n",
      "------------\n",
      "Mean RMSE: 0.9368\n",
      "Mean MAE : 0.7383\n",
      "------------\n",
      "------------\n"
     ]
    },
    {
     "name": "stderr",
     "output_type": "stream",
     "text": [
      "c:\\program files\\python36\\lib\\site-packages\\surprise\\prediction_algorithms\\algo_base.py:51: UserWarning: train() is deprecated. Use fit() instead\n",
      "  warnings.warn('train() is deprecated. Use fit() instead', UserWarning)\n"
     ]
    },
    {
     "name": "stdout",
     "output_type": "stream",
     "text": [
      "user: 196        item: 302        r_ui = 4.00   est = 3.70   {'was_impossible': False}\n"
     ]
    }
   ],
   "source": [
    "import zipfile\n",
    "from surprise import Reader, Dataset, SVD, evaluate\n",
    "\n",
    "# Prepare the data to be used in Surprise\n",
    "reader = Reader(line_format='user item rating timestamp', sep='\\t')\n",
    "data = Dataset.load_from_file('ml-100k/u.data', reader=reader)\n",
    "\n",
    "# Split the dataset into 5 folds and choose the algorithm\n",
    "data.split(n_folds=5)\n",
    "algo = SVD()\n",
    "\n",
    "# Train and test reporting the RMSE and MAE scores\n",
    "evaluate(algo, data, measures=['RMSE', 'MAE'])\n",
    "\n",
    "# Retrieve the trainset.\n",
    "trainset = data.build_full_trainset()\n",
    "algo.train(trainset)\n",
    "\n",
    "# Predict a certain item\n",
    "userid = str(196)\n",
    "itemid = str(302)\n",
    "actual_rating = 4\n",
    "print(algo.predict(userid, itemid, actual_rating))"
   ]
  },
  {
   "cell_type": "code",
   "execution_count": null,
   "metadata": {},
   "outputs": [],
   "source": []
  }
 ],
 "metadata": {
  "kernelspec": {
   "display_name": "Python 3",
   "language": "python",
   "name": "python3"
  },
  "language_info": {
   "codemirror_mode": {
    "name": "ipython",
    "version": 3
   },
   "file_extension": ".py",
   "mimetype": "text/x-python",
   "name": "python",
   "nbconvert_exporter": "python",
   "pygments_lexer": "ipython3",
   "version": "3.6.3"
  }
 },
 "nbformat": 4,
 "nbformat_minor": 2
}
