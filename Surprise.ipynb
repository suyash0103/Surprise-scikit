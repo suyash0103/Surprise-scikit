{
 "cells": [
  {
   "cell_type": "code",
   "execution_count": 1,
   "metadata": {},
   "outputs": [],
   "source": [
    "from surprise import SVD\n",
    "from surprise import Dataset\n",
    "from surprise.model_selection import cross_validate"
   ]
  },
  {
   "cell_type": "code",
   "execution_count": 2,
   "metadata": {},
   "outputs": [
    {
     "name": "stdout",
     "output_type": "stream",
     "text": [
      "Dataset ml-100k could not be found. Do you want to download it? [Y/n] Y\n",
      "Trying to download dataset from http://files.grouplens.org/datasets/movielens/ml-100k.zip...\n",
      "Done! Dataset ml-100k has been saved to C:\\Users\\Suyash/.surprise_data/ml-100k\n"
     ]
    }
   ],
   "source": [
    "data = Dataset.load_builtin('ml-100k')"
   ]
  },
  {
   "cell_type": "code",
   "execution_count": 3,
   "metadata": {},
   "outputs": [],
   "source": [
    "data = Dataset.load_builtin('ml-100k')"
   ]
  },
  {
   "cell_type": "code",
   "execution_count": 5,
   "metadata": {},
   "outputs": [],
   "source": [
    "algo = SVD()"
   ]
  },
  {
   "cell_type": "code",
   "execution_count": 6,
   "metadata": {},
   "outputs": [
    {
     "name": "stdout",
     "output_type": "stream",
     "text": [
      "Evaluating RMSE, MAE of algorithm SVD on 5 split(s).\n",
      "\n",
      "                  Fold 1  Fold 2  Fold 3  Fold 4  Fold 5  Mean    Std     \n",
      "RMSE (testset)    0.9325  0.9412  0.9349  0.9418  0.9335  0.9368  0.0039  \n",
      "MAE (testset)     0.7367  0.7415  0.7352  0.7420  0.7361  0.7383  0.0028  \n",
      "Fit time          17.78   17.89   17.53   17.05   10.54   16.16   2.82    \n",
      "Test time         2.56    1.88    1.62    1.47    0.28    1.56    0.74    \n"
     ]
    },
    {
     "data": {
      "text/plain": [
       "{'fit_time': (17.78115749359131,\n",
       "  17.885981798171997,\n",
       "  17.530353546142578,\n",
       "  17.04608154296875,\n",
       "  10.54322075843811),\n",
       " 'test_mae': array([ 0.73670661,  0.74148133,  0.73518762,  0.74196156,  0.73611085]),\n",
       " 'test_rmse': array([ 0.93246913,  0.94118921,  0.9349201 ,  0.94179218,  0.93349188]),\n",
       " 'test_time': (2.560173511505127,\n",
       "  1.8757798671722412,\n",
       "  1.6227831840515137,\n",
       "  1.4658620357513428,\n",
       "  0.2842833995819092)}"
      ]
     },
     "execution_count": 6,
     "metadata": {},
     "output_type": "execute_result"
    }
   ],
   "source": [
    "cross_validate(algo, data, measures=['RMSE', 'MAE'], cv=5, verbose=True)"
   ]
  },
  {
   "cell_type": "code",
   "execution_count": 7,
   "metadata": {},
   "outputs": [],
   "source": [
    "uid = str(196)  \n",
    "iid = str(302)  "
   ]
  },
  {
   "cell_type": "code",
   "execution_count": 10,
   "metadata": {},
   "outputs": [],
   "source": [
    "from surprise import SVD\n",
    "from surprise import Dataset\n",
    "from surprise import accuracy\n",
    "from surprise.model_selection import KFold\n"
   ]
  },
  {
   "cell_type": "code",
   "execution_count": 11,
   "metadata": {},
   "outputs": [],
   "source": [
    "kf = KFold(n_splits=3)\n",
    "\n",
    "algo = SVD()"
   ]
  },
  {
   "cell_type": "code",
   "execution_count": 12,
   "metadata": {},
   "outputs": [
    {
     "name": "stdout",
     "output_type": "stream",
     "text": [
      "RMSE: 0.9351\n",
      "RMSE: 0.9489\n",
      "RMSE: 0.9509\n"
     ]
    }
   ],
   "source": [
    "for trainset, testset in kf.split(data):\n",
    "\n",
    "    algo.fit(trainset)\n",
    "    predictions = algo.test(testset)\n",
    "\n",
    "    accuracy.rmse(predictions, verbose=True)"
   ]
  },
  {
   "cell_type": "code",
   "execution_count": 17,
   "metadata": {},
   "outputs": [
    {
     "name": "stdout",
     "output_type": "stream",
     "text": [
      "0.963739240811\n",
      "{'n_epochs': 10, 'lr_all': 0.005, 'reg_all': 0.4}\n"
     ]
    }
   ],
   "source": [
    "# Using GridSearchCV\n",
    "from surprise import SVD\n",
    "from surprise import Dataset\n",
    "from surprise.model_selection import GridSearchCV\n",
    "\n",
    "# Use movielens-100K\n",
    "data = Dataset.load_builtin('ml-100k')\n",
    "\n",
    "param_grid = {'n_epochs': [5, 10], 'lr_all': [0.002, 0.005],\n",
    "              'reg_all': [0.4, 0.6]}\n",
    "gs = GridSearchCV(SVD, param_grid, measures=['rmse', 'mae'], cv=3)\n",
    "\n",
    "gs.fit(data)\n",
    "\n",
    "# best RMSE score\n",
    "print(gs.best_score['rmse'])\n",
    "\n",
    "# combination of parameters that gave the best RMSE score\n",
    "print(gs.best_params['rmse'])"
   ]
  },
  {
   "cell_type": "code",
   "execution_count": 19,
   "metadata": {},
   "outputs": [],
   "source": [
    "import pandas as pd\n",
    "results_df = pd.DataFrame.from_dict(gs.cv_results)"
   ]
  },
  {
   "cell_type": "code",
   "execution_count": 20,
   "metadata": {},
   "outputs": [
    {
     "name": "stdout",
     "output_type": "stream",
     "text": [
      "   mean_fit_time  mean_test_mae  mean_test_rmse  mean_test_time  param_lr_all  \\\n",
      "0       3.907565       0.805769        0.996983        0.845449         0.002   \n",
      "1       4.106773       0.814608        1.003197        0.834406         0.002   \n",
      "2       4.126286       0.781773        0.973528        0.835790         0.005   \n",
      "3       4.119334       0.792766        0.982382        0.844466         0.005   \n",
      "4       8.073205       0.785721        0.977703        0.848795         0.002   \n",
      "5       7.909629       0.796371        0.986039        0.841891         0.002   \n",
      "6       7.866088       0.772446        0.963739        0.848457         0.005   \n",
      "7       7.802233       0.784237        0.973573        0.594226         0.005   \n",
      "\n",
      "   param_n_epochs  param_reg_all  \\\n",
      "0               5            0.4   \n",
      "1               5            0.6   \n",
      "2               5            0.4   \n",
      "3               5            0.6   \n",
      "4              10            0.4   \n",
      "5              10            0.6   \n",
      "6              10            0.4   \n",
      "7              10            0.6   \n",
      "\n",
      "                                              params  rank_test_mae  \\\n",
      "0   {'n_epochs': 5, 'lr_all': 0.002, 'reg_all': 0.4}              7   \n",
      "1   {'n_epochs': 5, 'lr_all': 0.002, 'reg_all': 0.6}              8   \n",
      "2   {'n_epochs': 5, 'lr_all': 0.005, 'reg_all': 0.4}              2   \n",
      "3   {'n_epochs': 5, 'lr_all': 0.005, 'reg_all': 0.6}              5   \n",
      "4  {'n_epochs': 10, 'lr_all': 0.002, 'reg_all': 0.4}              4   \n",
      "5  {'n_epochs': 10, 'lr_all': 0.002, 'reg_all': 0.6}              6   \n",
      "6  {'n_epochs': 10, 'lr_all': 0.005, 'reg_all': 0.4}              1   \n",
      "7  {'n_epochs': 10, 'lr_all': 0.005, 'reg_all': 0.6}              3   \n",
      "\n",
      "   rank_test_rmse  split0_test_mae  split0_test_rmse  split1_test_mae  \\\n",
      "0               7         0.799271          0.989600         0.810560   \n",
      "1               8         0.808020          0.995932         0.819508   \n",
      "2               2         0.776327          0.967009         0.786715   \n",
      "3               5         0.787097          0.975818         0.797805   \n",
      "4               4         0.779715          0.970716         0.790584   \n",
      "5               6         0.790210          0.979077         0.801266   \n",
      "6               1         0.767522          0.957874         0.777220   \n",
      "7               3         0.779024          0.967540         0.789232   \n",
      "\n",
      "   split1_test_rmse  split2_test_mae  split2_test_rmse  std_fit_time  \\\n",
      "0          1.001419         0.807475          0.999929      0.116507   \n",
      "1          1.007645         0.816294          1.006013      0.040504   \n",
      "2          0.978223         0.782278          0.975354      0.029201   \n",
      "3          0.987069         0.793396          0.984259      0.013213   \n",
      "4          0.982325         0.786865          0.980067      0.038562   \n",
      "5          0.990641         0.797638          0.988400      0.158851   \n",
      "6          0.968306         0.772596          0.965037      0.098203   \n",
      "7          0.978187         0.784456          0.974992      0.147471   \n",
      "\n",
      "   std_test_mae  std_test_rmse  std_test_time  \n",
      "0      0.004764       0.005256       0.041554  \n",
      "1      0.004839       0.005180       0.038816  \n",
      "2      0.004256       0.004757       0.028247  \n",
      "3      0.004395       0.004781       0.024879  \n",
      "4      0.004510       0.005025       0.063721  \n",
      "5      0.004602       0.005007       0.017932  \n",
      "6      0.003961       0.004357       0.078592  \n",
      "7      0.004170       0.004461       0.111731  \n"
     ]
    }
   ],
   "source": [
    "print (results_df)"
   ]
  },
  {
   "cell_type": "code",
   "execution_count": null,
   "metadata": {},
   "outputs": [],
   "source": []
  }
 ],
 "metadata": {
  "kernelspec": {
   "display_name": "Python 3",
   "language": "python",
   "name": "python3"
  },
  "language_info": {
   "codemirror_mode": {
    "name": "ipython",
    "version": 3
   },
   "file_extension": ".py",
   "mimetype": "text/x-python",
   "name": "python",
   "nbconvert_exporter": "python",
   "pygments_lexer": "ipython3",
   "version": "3.6.3"
  }
 },
 "nbformat": 4,
 "nbformat_minor": 2
}
