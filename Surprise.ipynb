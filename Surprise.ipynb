{
 "cells": [
  {
   "cell_type": "code",
   "execution_count": 1,
   "metadata": {},
   "outputs": [],
   "source": [
    "from surprise import SVD\n",
    "from surprise import Dataset\n",
    "from surprise.model_selection import cross_validate"
   ]
  },
  {
   "cell_type": "code",
   "execution_count": 2,
   "metadata": {},
   "outputs": [
    {
     "name": "stdout",
     "output_type": "stream",
     "text": [
      "Dataset ml-100k could not be found. Do you want to download it? [Y/n] Y\n",
      "Trying to download dataset from http://files.grouplens.org/datasets/movielens/ml-100k.zip...\n",
      "Done! Dataset ml-100k has been saved to C:\\Users\\Suyash/.surprise_data/ml-100k\n"
     ]
    }
   ],
   "source": [
    "data = Dataset.load_builtin('ml-100k')"
   ]
  },
  {
   "cell_type": "code",
   "execution_count": 3,
   "metadata": {},
   "outputs": [],
   "source": [
    "data = Dataset.load_builtin('ml-100k')"
   ]
  },
  {
   "cell_type": "code",
   "execution_count": 5,
   "metadata": {},
   "outputs": [],
   "source": [
    "algo = SVD()"
   ]
  },
  {
   "cell_type": "code",
   "execution_count": 6,
   "metadata": {},
   "outputs": [
    {
     "name": "stdout",
     "output_type": "stream",
     "text": [
      "Evaluating RMSE, MAE of algorithm SVD on 5 split(s).\n",
      "\n",
      "                  Fold 1  Fold 2  Fold 3  Fold 4  Fold 5  Mean    Std     \n",
      "RMSE (testset)    0.9325  0.9412  0.9349  0.9418  0.9335  0.9368  0.0039  \n",
      "MAE (testset)     0.7367  0.7415  0.7352  0.7420  0.7361  0.7383  0.0028  \n",
      "Fit time          17.78   17.89   17.53   17.05   10.54   16.16   2.82    \n",
      "Test time         2.56    1.88    1.62    1.47    0.28    1.56    0.74    \n"
     ]
    },
    {
     "data": {
      "text/plain": [
       "{'fit_time': (17.78115749359131,\n",
       "  17.885981798171997,\n",
       "  17.530353546142578,\n",
       "  17.04608154296875,\n",
       "  10.54322075843811),\n",
       " 'test_mae': array([ 0.73670661,  0.74148133,  0.73518762,  0.74196156,  0.73611085]),\n",
       " 'test_rmse': array([ 0.93246913,  0.94118921,  0.9349201 ,  0.94179218,  0.93349188]),\n",
       " 'test_time': (2.560173511505127,\n",
       "  1.8757798671722412,\n",
       "  1.6227831840515137,\n",
       "  1.4658620357513428,\n",
       "  0.2842833995819092)}"
      ]
     },
     "execution_count": 6,
     "metadata": {},
     "output_type": "execute_result"
    }
   ],
   "source": [
    "cross_validate(algo, data, measures=['RMSE', 'MAE'], cv=5, verbose=True)"
   ]
  },
  {
   "cell_type": "code",
   "execution_count": null,
   "metadata": {},
   "outputs": [],
   "source": []
  }
 ],
 "metadata": {
  "kernelspec": {
   "display_name": "Python 3",
   "language": "python",
   "name": "python3"
  },
  "language_info": {
   "codemirror_mode": {
    "name": "ipython",
    "version": 3
   },
   "file_extension": ".py",
   "mimetype": "text/x-python",
   "name": "python",
   "nbconvert_exporter": "python",
   "pygments_lexer": "ipython3",
   "version": "3.6.3"
  }
 },
 "nbformat": 4,
 "nbformat_minor": 2
}
